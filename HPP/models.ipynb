{
 "cells": [
  {
   "cell_type": "markdown",
   "metadata": {},
   "source": [
    "## Imports"
   ]
  },
  {
   "cell_type": "code",
   "execution_count": 13,
   "metadata": {},
   "outputs": [],
   "source": [
    "import numpy as np\n",
    "import seaborn as sns\n",
    "import pandas as pd\n",
    "import matplotlib.pyplot as plt\n",
    "import statsmodels.api as sm\n",
    "from sklearn.model_selection import train_test_split\n",
    "from sklearn.linear_model import LinearRegression\n",
    "from sklearn.metrics import mean_squared_error\n",
    "from sklearn.model_selection import cross_val_score\n",
    "from sklearn.neighbors import KNeighborsRegressor\n",
    "from sklearn.svm import SVR\n",
    "import statistics\n",
    "from numpy import random\n",
    "from random import randint\n",
    "from sklearn.metrics import confusion_matrix, accuracy_score\n",
    "from sklearn.tree import DecisionTreeClassifier\n",
    "from sklearn.preprocessing import StandardScaler\n",
    "from sklearn.neural_network import MLPRegressor\n",
    "from sklearn.linear_model import Ridge, Lasso"
   ]
  },
  {
   "cell_type": "markdown",
   "metadata": {},
   "source": [
    "## Methods"
   ]
  },
  {
   "cell_type": "code",
   "execution_count": 14,
   "metadata": {},
   "outputs": [],
   "source": [
    "def load():\n",
    "    data = pd.read_csv(\"../HPP/train_preprocessed.csv\")\n",
    "    return data"
   ]
  },
  {
   "cell_type": "markdown",
   "metadata": {},
   "source": [
    "## Model"
   ]
  },
  {
   "cell_type": "code",
   "execution_count": 15,
   "metadata": {},
   "outputs": [],
   "source": [
    "data = load()\n",
    "columns = data.columns.tolist()\n",
    "X = data.drop('SalePrice', axis = 1)\n",
    "y = data[[\"SalePrice\"]]"
   ]
  },
  {
   "cell_type": "code",
   "execution_count": 16,
   "metadata": {},
   "outputs": [],
   "source": [
    "x_train, x_test, y_train, y_test = train_test_split(X,y,test_size=0.2,random_state = 42)\n",
    "#test_size=0.2 means %20 test datas, %80 train datas\n",
    "method_names = []\n",
    "method_scores = []"
   ]
  },
  {
   "cell_type": "code",
   "execution_count": 17,
   "metadata": {},
   "outputs": [
    {
     "name": "stdout",
     "output_type": "stream",
     "text": [
      "Score for Linear Regression: -0.06542283227868562\n"
     ]
    },
    {
     "data": {
      "text/plain": [
       "239102549.67581016"
      ]
     },
     "execution_count": 17,
     "metadata": {},
     "output_type": "execute_result"
    }
   ],
   "source": [
    "#LINEAR REGRESSION\n",
    "lm = LinearRegression()\n",
    "model = lm.fit(x_train, y_train)\n",
    "print(\"Score for Linear Regression: {}\".format(model.score(x_test,y_test)))\n",
    "method_names.append(\"LinearRegression\")\n",
    "method_scores.append(model.score(x_test,y_test))\n",
    "np.sqrt(mean_squared_error(y_train, model.predict(x_train)))\n",
    "np.sqrt(mean_squared_error(y_test, model.predict(x_test)))\n",
    "cross_val_score(model, x_train, y_train, cv = 10, scoring = \"neg_mean_squared_error\")\n",
    "#cv rmse\n",
    "np.sqrt(np.mean(-cross_val_score(model, x_train, y_train, cv = 10, scoring = \"neg_mean_squared_error\")))"
   ]
  },
  {
   "cell_type": "code",
   "execution_count": 18,
   "metadata": {},
   "outputs": [
    {
     "name": "stdout",
     "output_type": "stream",
     "text": [
      "Score for Lasso Regression: 0.8745344475762047\n"
     ]
    },
    {
     "name": "stderr",
     "output_type": "stream",
     "text": [
      "c:\\Users\\BORA\\AppData\\Local\\Programs\\Python\\Python310\\lib\\site-packages\\sklearn\\linear_model\\_coordinate_descent.py:628: ConvergenceWarning: Objective did not converge. You might want to increase the number of iterations, check the scale of the features or consider increasing regularisation. Duality gap: 3.145e+11, tolerance: 6.901e+08\n",
      "  model = cd_fast.enet_coordinate_descent(\n"
     ]
    }
   ],
   "source": [
    "#Lasso REGRESSION\n",
    "lassoModel = Lasso()\n",
    "lassoModel.fit(x_train, y_train)\n",
    "print(\"Score for Lasso Regression: {}\".format(lassoModel.score(x_test,y_test)))\n",
    "method_names.append(\"Lasso\")\n",
    "method_scores.append(lassoModel.score(x_test,y_test))"
   ]
  },
  {
   "cell_type": "code",
   "execution_count": 19,
   "metadata": {},
   "outputs": [
    {
     "name": "stdout",
     "output_type": "stream",
     "text": [
      "Score for Ridge Regression: 0.019692670650263033\n"
     ]
    }
   ],
   "source": [
    "#RIDGE REGRESSION\n",
    "ridgeModel = Ridge()\n",
    "ridgeModel = Ridge(alpha = 5).fit(x_train, y_train)\n",
    "print(\"Score for Ridge Regression: {}\".format(ridgeModel.score(x_test,y_test)))\n",
    "method_names.append(\"Ridge\")\n",
    "method_scores.append(ridgeModel.score(x_test,y_test))"
   ]
  },
  {
   "cell_type": "code",
   "execution_count": 20,
   "metadata": {},
   "outputs": [
    {
     "name": "stdout",
     "output_type": "stream",
     "text": [
      "Score for Number of Neighbors = 3: 0.724677244045776\n"
     ]
    }
   ],
   "source": [
    "#KNN\n",
    "knn = KNeighborsRegressor(n_neighbors=3)\n",
    "knn.fit(x_train,y_train)\n",
    "print(\"Score for Number of Neighbors = 3: {}\".format(knn.score(x_test,y_test)))\n",
    "method_names.append(\"KNN\")\n",
    "method_scores.append(knn.score(x_test,y_test))"
   ]
  },
  {
   "cell_type": "code",
   "execution_count": 21,
   "metadata": {},
   "outputs": [
    {
     "name": "stderr",
     "output_type": "stream",
     "text": [
      "c:\\Users\\BORA\\AppData\\Local\\Programs\\Python\\Python310\\lib\\site-packages\\sklearn\\utils\\validation.py:1183: DataConversionWarning: A column-vector y was passed when a 1d array was expected. Please change the shape of y to (n_samples, ), for example using ravel().\n",
      "  y = column_or_1d(y, warn=True)\n"
     ]
    },
    {
     "name": "stdout",
     "output_type": "stream",
     "text": [
      "Score for SVR: 0.7824954839418345\n"
     ]
    }
   ],
   "source": [
    "#SVR\n",
    "svr_model = SVR(kernel='linear').fit(x_train, y_train)\n",
    "print(\"Score for SVR: {}\".format(svr_model.score(x_test,y_test)))\n",
    "method_names.append(\"SVR\")\n",
    "method_scores.append(svr_model.score(x_test,y_test))"
   ]
  },
  {
   "cell_type": "code",
   "execution_count": 22,
   "metadata": {},
   "outputs": [
    {
     "data": {
      "text/plain": [
       "Text(0, 0.5, 'Method Score')"
      ]
     },
     "execution_count": 22,
     "metadata": {},
     "output_type": "execute_result"
    },
    {
     "data": {
      "image/png": "[encoded data removed]",
      "text/plain": [
       "<Figure size 1500x1000 with 1 Axes>"
      ]
     },
     "metadata": {},
     "output_type": "display_data"
    }
   ],
   "source": [
    "plt.figure(figsize=(15,10))\n",
    "plt.ylim([0.45,1])\n",
    "plt.bar(method_names,method_scores,width=0.5)\n",
    "plt.xlabel('Method Name')\n",
    "plt.ylabel('Method Score')"
   ]
  }
 ],
 "metadata": {
  "kernelspec": {
   "display_name": "Python 3",
   "language": "python",
   "name": "python3"
  },
  "language_info": {
   "codemirror_mode": {
    "name": "ipython",
    "version": 3
   },
   "file_extension": ".py",
   "mimetype": "text/x-python",
   "name": "python",
   "nbconvert_exporter": "python",
   "pygments_lexer": "ipython3",
   "version": "3.10.6"
  }
 },
 "nbformat": 4,
 "nbformat_minor": 2
}
